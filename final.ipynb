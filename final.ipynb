{
  "nbformat": 4,
  "nbformat_minor": 0,
  "metadata": {
    "colab": {
      "name": "final.ipynb",
      "provenance": [],
      "collapsed_sections": [],
      "authorship_tag": "ABX9TyMSRSJ1pggLSebs66k7IXRL",
      "include_colab_link": true
    },
    "kernelspec": {
      "name": "python3",
      "display_name": "Python 3"
    },
    "language_info": {
      "name": "python"
    },
    "accelerator": "GPU"
  },
  "cells": [
    {
      "cell_type": "markdown",
      "metadata": {
        "id": "view-in-github",
        "colab_type": "text"
      },
      "source": [
        "<a href=\"https://colab.research.google.com/github/pravallika16-in/firstRepo/blob/master/final.ipynb\" target=\"_parent\"><img src=\"https://colab.research.google.com/assets/colab-badge.svg\" alt=\"Open In Colab\"/></a>"
      ]
    },
    {
      "cell_type": "code",
      "metadata": {
        "id": "3OuYwRNyZq8Z"
      },
      "source": [
        ""
      ],
      "execution_count": null,
      "outputs": []
    },
    {
      "cell_type": "code",
      "metadata": {
        "colab": {
          "base_uri": "https://localhost:8080/"
        },
        "id": "S-mJNVRPbu1L",
        "outputId": "fdb03397-2a94-496d-c699-bfd75faf6238"
      },
      "source": [
        "from google.colab import drive\n",
        "drive.mount('/content/drive')"
      ],
      "execution_count": null,
      "outputs": [
        {
          "output_type": "stream",
          "text": [
            "Mounted at /content/drive\n"
          ],
          "name": "stdout"
        }
      ]
    },
    {
      "cell_type": "code",
      "metadata": {
        "id": "J-S5EhKQdlIY"
      },
      "source": [
        "from keras.preprocessing.image import ImageDataGenerator\n",
        "from keras.models import Sequential\n",
        "from keras.layers import Conv2D,MaxPooling2D\n",
        "from keras.layers.normalization import BatchNormalization\n",
        "from keras.layers import Activation, Dropout, Flatten, Dense\n",
        "from keras import backend as K\n",
        "import numpy as np\n",
        "from keras.preprocessing import image\n",
        "from keras.optimizers import Adam"
      ],
      "execution_count": null,
      "outputs": []
    },
    {
      "cell_type": "code",
      "metadata": {
        "id": "yMXRgpKGBY33"
      },
      "source": [
        "img_width, img_height = 256,256\n",
        "\n",
        "train_data_dir = '/content/drive/MyDrive/imgs/train'\n",
        "test_data_dir = '/content/drive/MyDrive/imgs/validation'\n",
        "no_train_samples = 17943\n",
        "no_test_samples = 4481\n",
        "epochs =15\n",
        "batch_size=64"
      ],
      "execution_count": null,
      "outputs": []
    },
    {
      "cell_type": "code",
      "metadata": {
        "id": "2JrhgI2eCTlw"
      },
      "source": [
        "if K.image_data_format() =='channels_first':\n",
        "    input_shape= (3,img_width,img_height)\n",
        "else:\n",
        "    input_shape =(img_width, img_height,3)"
      ],
      "execution_count": null,
      "outputs": []
    },
    {
      "cell_type": "code",
      "metadata": {
        "id": "Mojg6yUoCUFc"
      },
      "source": [
        "train_datagen = ImageDataGenerator(\n",
        "    rescale=1. /255,\n",
        "    shear_range = 0.2,\n",
        "    zoom_range =0.2,\n",
        "    horizontal_flip=True,\n",
        "    rotation_range=25,\n",
        "    width_shift_range=0.1,\n",
        "    height_shift_range=0.1,\n",
        "    fill_mode=\"nearest\"\n",
        "    )"
      ],
      "execution_count": null,
      "outputs": []
    },
    {
      "cell_type": "code",
      "metadata": {
        "id": "T77jlGs9CzJn"
      },
      "source": [
        "test_datagen = ImageDataGenerator(rescale=1. /255)"
      ],
      "execution_count": null,
      "outputs": []
    },
    {
      "cell_type": "code",
      "metadata": {
        "colab": {
          "base_uri": "https://localhost:8080/"
        },
        "id": "JtkIPezrC1oY",
        "outputId": "dd683d2c-e64e-4933-a333-33d0777f0a8b"
      },
      "source": [
        "train_generator = train_datagen.flow_from_directory(\n",
        "     train_data_dir,\n",
        "    target_size=(img_width,img_height),\n",
        "    batch_size= batch_size,\n",
        "    class_mode='categorical'\n",
        ")"
      ],
      "execution_count": null,
      "outputs": [
        {
          "output_type": "stream",
          "text": [
            "Found 17943 images belonging to 10 classes.\n"
          ],
          "name": "stdout"
        }
      ]
    },
    {
      "cell_type": "code",
      "metadata": {
        "colab": {
          "base_uri": "https://localhost:8080/"
        },
        "id": "KUGyCIWyC3ZX",
        "outputId": "c0bc499b-8a74-478c-930e-bf651208711c"
      },
      "source": [
        "validation_generator = test_datagen.flow_from_directory(\n",
        "     test_data_dir,\n",
        "    target_size=(img_width,img_height),\n",
        "    batch_size= batch_size,\n",
        "    class_mode='categorical'\n",
        ")"
      ],
      "execution_count": null,
      "outputs": [
        {
          "output_type": "stream",
          "text": [
            "Found 4481 images belonging to 10 classes.\n"
          ],
          "name": "stdout"
        }
      ]
    },
    {
      "cell_type": "code",
      "metadata": {
        "colab": {
          "base_uri": "https://localhost:8080/"
        },
        "id": "1Mjagt-4C_Yc",
        "outputId": "5cc3cc17-445e-47a1-abef-b12288a0b98e"
      },
      "source": [
        "model=Sequential()\n",
        "\n",
        "model.add(Conv2D(64,(3,3), padding='same', input_shape= input_shape))\n",
        "model.add(BatchNormalization())\n",
        "model.add(Activation('relu'))\n",
        "model.add(MaxPooling2D(pool_size=(2,2)))\n",
        "model.add(Dropout(0.25))\n",
        "\n",
        "model.add(Conv2D(128,(5,5), padding='same'))\n",
        "model.add(BatchNormalization())\n",
        "model.add(Activation('relu'))\n",
        "model.add(MaxPooling2D(pool_size=(2,2)))\n",
        "model.add(Dropout(0.25))\n",
        "\n",
        "model.add(Conv2D(512,(3,3), padding='same'))\n",
        "model.add(BatchNormalization())\n",
        "model.add(Activation('relu'))\n",
        "model.add(MaxPooling2D(pool_size=(2,2)))\n",
        "model.add(Dropout(0.25))\n",
        "\n",
        "model.add(Conv2D(128,(3,3), padding='same'))\n",
        "model.add(BatchNormalization())\n",
        "model.add(Activation('relu'))\n",
        "model.add(MaxPooling2D(pool_size=(2,2)))\n",
        "model.add(Dropout(0.25))\n",
        "\n",
        "model.add(Flatten())\n",
        "model.add(Dense(128))\n",
        "model.add(BatchNormalization())\n",
        "model.add(Activation('relu'))\n",
        "model.add(Dropout(0.25))\n",
        "model.add(Dense(1000))\n",
        "model.add(BatchNormalization())\n",
        "model.add(Activation('relu'))\n",
        "model.add(Dropout(0.25))\n",
        "\n",
        "model.add(Dense(10, activation='softmax'))\n",
        "opt=Adam(lr=0.0005)\n",
        "model.summary()"
      ],
      "execution_count": null,
      "outputs": [
        {
          "output_type": "stream",
          "text": [
            "Model: \"sequential\"\n",
            "_________________________________________________________________\n",
            "Layer (type)                 Output Shape              Param #   \n",
            "=================================================================\n",
            "conv2d (Conv2D)              (None, 256, 256, 64)      1792      \n",
            "_________________________________________________________________\n",
            "batch_normalization (BatchNo (None, 256, 256, 64)      256       \n",
            "_________________________________________________________________\n",
            "activation (Activation)      (None, 256, 256, 64)      0         \n",
            "_________________________________________________________________\n",
            "max_pooling2d (MaxPooling2D) (None, 128, 128, 64)      0         \n",
            "_________________________________________________________________\n",
            "dropout (Dropout)            (None, 128, 128, 64)      0         \n",
            "_________________________________________________________________\n",
            "conv2d_1 (Conv2D)            (None, 128, 128, 128)     204928    \n",
            "_________________________________________________________________\n",
            "batch_normalization_1 (Batch (None, 128, 128, 128)     512       \n",
            "_________________________________________________________________\n",
            "activation_1 (Activation)    (None, 128, 128, 128)     0         \n",
            "_________________________________________________________________\n",
            "max_pooling2d_1 (MaxPooling2 (None, 64, 64, 128)       0         \n",
            "_________________________________________________________________\n",
            "dropout_1 (Dropout)          (None, 64, 64, 128)       0         \n",
            "_________________________________________________________________\n",
            "conv2d_2 (Conv2D)            (None, 64, 64, 512)       590336    \n",
            "_________________________________________________________________\n",
            "batch_normalization_2 (Batch (None, 64, 64, 512)       2048      \n",
            "_________________________________________________________________\n",
            "activation_2 (Activation)    (None, 64, 64, 512)       0         \n",
            "_________________________________________________________________\n",
            "max_pooling2d_2 (MaxPooling2 (None, 32, 32, 512)       0         \n",
            "_________________________________________________________________\n",
            "dropout_2 (Dropout)          (None, 32, 32, 512)       0         \n",
            "_________________________________________________________________\n",
            "conv2d_3 (Conv2D)            (None, 32, 32, 128)       589952    \n",
            "_________________________________________________________________\n",
            "batch_normalization_3 (Batch (None, 32, 32, 128)       512       \n",
            "_________________________________________________________________\n",
            "activation_3 (Activation)    (None, 32, 32, 128)       0         \n",
            "_________________________________________________________________\n",
            "max_pooling2d_3 (MaxPooling2 (None, 16, 16, 128)       0         \n",
            "_________________________________________________________________\n",
            "dropout_3 (Dropout)          (None, 16, 16, 128)       0         \n",
            "_________________________________________________________________\n",
            "flatten (Flatten)            (None, 32768)             0         \n",
            "_________________________________________________________________\n",
            "dense (Dense)                (None, 128)               4194432   \n",
            "_________________________________________________________________\n",
            "batch_normalization_4 (Batch (None, 128)               512       \n",
            "_________________________________________________________________\n",
            "activation_4 (Activation)    (None, 128)               0         \n",
            "_________________________________________________________________\n",
            "dropout_4 (Dropout)          (None, 128)               0         \n",
            "_________________________________________________________________\n",
            "dense_1 (Dense)              (None, 1000)              129000    \n",
            "_________________________________________________________________\n",
            "batch_normalization_5 (Batch (None, 1000)              4000      \n",
            "_________________________________________________________________\n",
            "activation_5 (Activation)    (None, 1000)              0         \n",
            "_________________________________________________________________\n",
            "dropout_5 (Dropout)          (None, 1000)              0         \n",
            "_________________________________________________________________\n",
            "dense_2 (Dense)              (None, 10)                10010     \n",
            "=================================================================\n",
            "Total params: 5,728,290\n",
            "Trainable params: 5,724,370\n",
            "Non-trainable params: 3,920\n",
            "_________________________________________________________________\n"
          ],
          "name": "stdout"
        },
        {
          "output_type": "stream",
          "text": [
            "/usr/local/lib/python3.7/dist-packages/tensorflow/python/keras/optimizer_v2/optimizer_v2.py:375: UserWarning: The `lr` argument is deprecated, use `learning_rate` instead.\n",
            "  \"The `lr` argument is deprecated, use `learning_rate` instead.\")\n"
          ],
          "name": "stderr"
        }
      ]
    },
    {
      "cell_type": "code",
      "metadata": {
        "id": "LkcSPCQKDed-"
      },
      "source": [
        "model.compile(optimizer='adam', loss='categorical_crossentropy', metrics=['accuracy'])\n",
        "\n",
        "model.summary()"
      ],
      "execution_count": null,
      "outputs": []
    },
    {
      "cell_type": "code",
      "metadata": {
        "id": "RkSM06YriQOR"
      },
      "source": [
        "\n",
        "from keras.callbacks import ModelCheckpoint,ReduceLROnPlateau\n",
        "\n",
        "\n",
        "checkpoint=ModelCheckpoint(\"model_weights.h5\", monitor=\"val_accuracy\", save_weights_only=True, model='max', verbose=1)\n",
        "reduce_lr = ReduceLROnPlateau(monitor = 'val_loss', factor=0.1, patience=2, min_lr= 0.00001, model= 'auto')"
      ],
      "execution_count": null,
      "outputs": []
    },
    {
      "cell_type": "code",
      "metadata": {
        "colab": {
          "base_uri": "https://localhost:8080/"
        },
        "id": "2ktkWGy1Dyus",
        "outputId": "7f9d6728-1f6b-4e91-a388-74a13cb394e3"
      },
      "source": [
        "model.fit(\n",
        "    train_generator,\n",
        "    steps_per_epoch=no_train_samples // batch_size,\n",
        "    epochs = epochs,\n",
        "    validation_data = validation_generator,\n",
        "    validation_steps= no_test_samples // batch_size\n",
        ")"
      ],
      "execution_count": null,
      "outputs": [
        {
          "output_type": "stream",
          "text": [
            "Epoch 1/15\n",
            "280/280 [==============================] - 5519s 20s/step - loss: 2.3012 - accuracy: 0.2271 - val_loss: 4.0212 - val_accuracy: 0.1185\n",
            "Epoch 2/15\n",
            "280/280 [==============================] - 294s 1s/step - loss: 1.3386 - accuracy: 0.5324 - val_loss: 1.1314 - val_accuracy: 0.6547\n",
            "Epoch 3/15\n",
            "280/280 [==============================] - 294s 1s/step - loss: 0.9242 - accuracy: 0.6805 - val_loss: 6.8289 - val_accuracy: 0.2277\n",
            "Epoch 4/15\n",
            "280/280 [==============================] - 294s 1s/step - loss: 0.7406 - accuracy: 0.7447 - val_loss: 6.0391 - val_accuracy: 0.2884\n",
            "Epoch 5/15\n",
            "280/280 [==============================] - 295s 1s/step - loss: 0.6325 - accuracy: 0.7844 - val_loss: 5.0886 - val_accuracy: 0.3313\n",
            "Epoch 6/15\n",
            "280/280 [==============================] - 294s 1s/step - loss: 0.5384 - accuracy: 0.8152 - val_loss: 2.3119 - val_accuracy: 0.5342\n",
            "Epoch 7/15\n",
            "280/280 [==============================] - 294s 1s/step - loss: 0.4830 - accuracy: 0.8358 - val_loss: 4.7076 - val_accuracy: 0.3362\n",
            "Epoch 8/15\n",
            "280/280 [==============================] - 295s 1s/step - loss: 0.4213 - accuracy: 0.8599 - val_loss: 23.6077 - val_accuracy: 0.1312\n",
            "Epoch 9/15\n",
            "280/280 [==============================] - 294s 1s/step - loss: 0.4005 - accuracy: 0.8618 - val_loss: 0.3141 - val_accuracy: 0.8911\n",
            "Epoch 10/15\n",
            "280/280 [==============================] - 294s 1s/step - loss: 0.3587 - accuracy: 0.8813 - val_loss: 0.9732 - val_accuracy: 0.7402\n",
            "Epoch 11/15\n",
            "280/280 [==============================] - 294s 1s/step - loss: 0.3435 - accuracy: 0.8893 - val_loss: 0.7771 - val_accuracy: 0.7737\n",
            "Epoch 12/15\n",
            "280/280 [==============================] - 294s 1s/step - loss: 0.2936 - accuracy: 0.9040 - val_loss: 16.3193 - val_accuracy: 0.1277\n",
            "Epoch 13/15\n",
            "280/280 [==============================] - 294s 1s/step - loss: 0.2882 - accuracy: 0.9032 - val_loss: 0.2963 - val_accuracy: 0.9107\n",
            "Epoch 14/15\n",
            "280/280 [==============================] - 294s 1s/step - loss: 0.2810 - accuracy: 0.9100 - val_loss: 2.7808 - val_accuracy: 0.5185\n",
            "Epoch 15/15\n",
            "280/280 [==============================] - 295s 1s/step - loss: 0.2496 - accuracy: 0.9233 - val_loss: 0.1997 - val_accuracy: 0.9266\n"
          ],
          "name": "stdout"
        },
        {
          "output_type": "execute_result",
          "data": {
            "text/plain": [
              "<keras.callbacks.History at 0x7f7150190ed0>"
            ]
          },
          "metadata": {
            "tags": []
          },
          "execution_count": 12
        }
      ]
    },
    {
      "cell_type": "code",
      "metadata": {
        "id": "qy6TOTSgFTpT",
        "colab": {
          "base_uri": "https://localhost:8080/"
        },
        "outputId": "65f0a868-e4fe-41f2-fdd7-42d051a320a5"
      },
      "source": [
        "model.save('/content/drive/MyDrive/third.model')"
      ],
      "execution_count": null,
      "outputs": [
        {
          "output_type": "stream",
          "text": [
            "INFO:tensorflow:Assets written to: /content/drive/MyDrive/third.model/assets\n"
          ],
          "name": "stdout"
        }
      ]
    },
    {
      "cell_type": "code",
      "metadata": {
        "id": "-rYmsit3Y5sf"
      },
      "source": [
        "from tensorflow.keras.models import load_model\n",
        "model=load_model('/content/drive/MyDrive/third.model')"
      ],
      "execution_count": null,
      "outputs": []
    },
    {
      "cell_type": "code",
      "metadata": {
        "id": "0C5btXEzawRu"
      },
      "source": [
        ""
      ],
      "execution_count": null,
      "outputs": []
    }
  ]
}